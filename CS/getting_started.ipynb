{
 "cells": [
  {
   "cell_type": "code",
   "execution_count": 1,
   "id": "vulnerable-citation",
   "metadata": {},
   "outputs": [],
   "source": [
    "import pandas as pd"
   ]
  },
  {
   "cell_type": "code",
   "execution_count": 2,
   "id": "congressional-portable",
   "metadata": {},
   "outputs": [],
   "source": [
    "df = pd.read_csv('dataset.csv')"
   ]
  },
  {
   "cell_type": "code",
   "execution_count": 3,
   "id": "bibliographic-leader",
   "metadata": {},
   "outputs": [
    {
     "data": {
      "text/html": [
       "<div>\n",
       "<style scoped>\n",
       "    .dataframe tbody tr th:only-of-type {\n",
       "        vertical-align: middle;\n",
       "    }\n",
       "\n",
       "    .dataframe tbody tr th {\n",
       "        vertical-align: top;\n",
       "    }\n",
       "\n",
       "    .dataframe thead th {\n",
       "        text-align: right;\n",
       "    }\n",
       "</style>\n",
       "<table border=\"1\" class=\"dataframe\">\n",
       "  <thead>\n",
       "    <tr style=\"text-align: right;\">\n",
       "      <th></th>\n",
       "      <th>url</th>\n",
       "      <th>prefix</th>\n",
       "      <th>category_name</th>\n",
       "    </tr>\n",
       "  </thead>\n",
       "  <tbody>\n",
       "    <tr>\n",
       "      <th>0</th>\n",
       "      <td>https://www.pizzahut.co.uk/order/deals/?cs-pop...</td>\n",
       "      <td>www.pizzahut.co.uk</td>\n",
       "      <td>Other</td>\n",
       "    </tr>\n",
       "    <tr>\n",
       "      <th>1</th>\n",
       "      <td>https://us.pandora.net/on/demandware.store/Sit...</td>\n",
       "      <td>us.pandora.net</td>\n",
       "      <td>My account</td>\n",
       "    </tr>\n",
       "    <tr>\n",
       "      <th>2</th>\n",
       "      <td>https://www.oakleysi.com/en-us/my-account/edit...</td>\n",
       "      <td>www.oakleysi.com</td>\n",
       "      <td>My account</td>\n",
       "    </tr>\n",
       "  </tbody>\n",
       "</table>\n",
       "</div>"
      ],
      "text/plain": [
       "                                                 url              prefix  \\\n",
       "0  https://www.pizzahut.co.uk/order/deals/?cs-pop...  www.pizzahut.co.uk   \n",
       "1  https://us.pandora.net/on/demandware.store/Sit...      us.pandora.net   \n",
       "2  https://www.oakleysi.com/en-us/my-account/edit...    www.oakleysi.com   \n",
       "\n",
       "  category_name  \n",
       "0         Other  \n",
       "1    My account  \n",
       "2    My account  "
      ]
     },
     "execution_count": 3,
     "metadata": {},
     "output_type": "execute_result"
    }
   ],
   "source": [
    "df.head(3)"
   ]
  },
  {
   "cell_type": "markdown",
   "id": "romance-tulsa",
   "metadata": {},
   "source": [
    "the url format is the following:\n",
    "{schema}+{prefix}+{path}?{query}$${custom_varibles}"
   ]
  },
  {
   "cell_type": "code",
   "execution_count": 4,
   "id": "mexican-charter",
   "metadata": {},
   "outputs": [],
   "source": [
    "df['c_vars'] = df.url.apply(lambda url: url.split('$$')[-1])\n",
    "df['query'] = df.url.apply(lambda url: url.split('$$')[0].split('?')[-1])\n",
    "df['path'] = df.apply(lambda row: row.url.split('$$')[0].split('?')[0].split(row.prefix)[-1], axis=1)"
   ]
  },
  {
   "cell_type": "code",
   "execution_count": 5,
   "id": "eastern-rebate",
   "metadata": {
    "scrolled": true
   },
   "outputs": [
    {
     "data": {
      "text/html": [
       "<div>\n",
       "<style scoped>\n",
       "    .dataframe tbody tr th:only-of-type {\n",
       "        vertical-align: middle;\n",
       "    }\n",
       "\n",
       "    .dataframe tbody tr th {\n",
       "        vertical-align: top;\n",
       "    }\n",
       "\n",
       "    .dataframe thead th {\n",
       "        text-align: right;\n",
       "    }\n",
       "</style>\n",
       "<table border=\"1\" class=\"dataframe\">\n",
       "  <thead>\n",
       "    <tr style=\"text-align: right;\">\n",
       "      <th></th>\n",
       "      <th>prefix</th>\n",
       "      <th>path</th>\n",
       "      <th>query</th>\n",
       "      <th>c_vars</th>\n",
       "      <th>category_name</th>\n",
       "    </tr>\n",
       "  </thead>\n",
       "  <tbody>\n",
       "    <tr>\n",
       "      <th>0</th>\n",
       "      <td>www.pizzahut.co.uk</td>\n",
       "      <td>/order/deals/</td>\n",
       "      <td>cs-popin-modal--DealBotModalB</td>\n",
       "      <td>Device Type=desktop&amp;Login Status=logged-out&amp;Pl...</td>\n",
       "      <td>Other</td>\n",
       "    </tr>\n",
       "    <tr>\n",
       "      <th>1</th>\n",
       "      <td>us.pandora.net</td>\n",
       "      <td>/on/demandware.store/Sites-en-US-Site/en_US/Or...</td>\n",
       "      <td>orderNumber=PND11077497</td>\n",
       "      <td>country=us&amp;customer_login_stat=Logged in&amp;page_...</td>\n",
       "      <td>My account</td>\n",
       "    </tr>\n",
       "    <tr>\n",
       "      <th>2</th>\n",
       "      <td>www.oakleysi.com</td>\n",
       "      <td>/en-us/my-account/edit-address/11813567168535</td>\n",
       "      <td></td>\n",
       "      <td>Action=US:EN:R::Generic &amp;Page Name=:Generic&amp;Pa...</td>\n",
       "      <td>My account</td>\n",
       "    </tr>\n",
       "  </tbody>\n",
       "</table>\n",
       "</div>"
      ],
      "text/plain": [
       "               prefix                                               path  \\\n",
       "0  www.pizzahut.co.uk                                      /order/deals/   \n",
       "1      us.pandora.net  /on/demandware.store/Sites-en-US-Site/en_US/Or...   \n",
       "2    www.oakleysi.com      /en-us/my-account/edit-address/11813567168535   \n",
       "\n",
       "                           query  \\\n",
       "0  cs-popin-modal--DealBotModalB   \n",
       "1        orderNumber=PND11077497   \n",
       "2                                  \n",
       "\n",
       "                                              c_vars category_name  \n",
       "0  Device Type=desktop&Login Status=logged-out&Pl...         Other  \n",
       "1  country=us&customer_login_stat=Logged in&page_...    My account  \n",
       "2  Action=US:EN:R::Generic &Page Name=:Generic&Pa...    My account  "
      ]
     },
     "execution_count": 5,
     "metadata": {},
     "output_type": "execute_result"
    }
   ],
   "source": [
    "df[['prefix', 'path', 'query','c_vars', 'category_name']].head(3)"
   ]
  },
  {
   "cell_type": "code",
   "execution_count": 6,
   "id": "extended-mother",
   "metadata": {},
   "outputs": [
    {
     "data": {
      "text/plain": [
       "Product                   36.928666\n",
       "Category                  18.071541\n",
       "Search                    12.437898\n",
       "Home                       8.970564\n",
       "Checkout                   5.570506\n",
       "Cart                       3.483895\n",
       "Confirmation               3.356587\n",
       "My account                 2.639314\n",
       "Formations / services      2.628964\n",
       "Other                      2.270845\n",
       "Brand image                1.360023\n",
       "Store locator              0.752463\n",
       "Information / legals       0.586859\n",
       "Help / support             0.366399\n",
       "Press / news               0.307403\n",
       "Offers & services          0.154219\n",
       "Favorites / wishlist       0.064172\n",
       "Form                       0.017595\n",
       "Appointments / booking     0.016560\n",
       "Careers & applications     0.015525\n",
       "Name: category_name, dtype: float64"
      ]
     },
     "execution_count": 6,
     "metadata": {},
     "output_type": "execute_result"
    }
   ],
   "source": [
    "df.category_name.value_counts(normalize=True) * 100"
   ]
  },
  {
   "cell_type": "code",
   "execution_count": 7,
   "id": "respective-rainbow",
   "metadata": {},
   "outputs": [
    {
     "data": {
      "text/plain": [
       "www2.hm.com                    14.790\n",
       "www.gites-de-france.com         7.827\n",
       "www.pizzahut.co.uk              4.094\n",
       "www.cosstores.com               4.069\n",
       "www.gucci.com                   3.693\n",
       "www.oakley.com                  3.316\n",
       "www.travelrepublic.co.uk        3.276\n",
       "www.specsavers.co.uk            3.206\n",
       "www.spacenk.com                 2.943\n",
       "www.funkypigeon.com             2.665\n",
       "www.hobbycraft.co.uk            2.491\n",
       "uk.pandora.net                  2.380\n",
       "www.pecheur.com                 2.240\n",
       "us.pandora.net                  2.197\n",
       "www.which.co.uk                 2.150\n",
       "www.hermes.com                  2.013\n",
       "www.bottegaveneta.com           1.584\n",
       "app.contentsquare.com           1.583\n",
       "www.tomtom.com                  1.517\n",
       "www.natureetdecouvertes.com     1.498\n",
       "Name: prefix, dtype: float64"
      ]
     },
     "execution_count": 7,
     "metadata": {},
     "output_type": "execute_result"
    }
   ],
   "source": [
    "df.prefix.value_counts(normalize=True)[:20] * 100"
   ]
  },
  {
   "cell_type": "code",
   "execution_count": 8,
   "id": "accurate-camera",
   "metadata": {},
   "outputs": [
    {
     "data": {
      "text/plain": [
       "path\n",
       "/fr/search                     3861\n",
       "/                              3171\n",
       "/de_de/search-results.html     1707\n",
       "/en_us/search-results.html     1199\n",
       "/order/deal/                   1088\n",
       "/search                        1025\n",
       "/en_gb/checkout                 996\n",
       "/en/checkout                    851\n",
       "/advancedsearchresults.aspx     847\n",
       "/order/deals/                   786\n",
       "/en/shopping-bag                705\n",
       "/en/                            627\n",
       "/uk/cart                        612\n",
       "/en/search                      585\n",
       "/order/pizzas/                  581\n",
       "/glasses/all-glasses            538\n",
       "/us/en/                         482\n",
       "/en                             410\n",
       "/en-us/search                   357\n",
       "/en-us/cart                     331\n",
       "Name: path, dtype: int64"
      ]
     },
     "execution_count": 8,
     "metadata": {},
     "output_type": "execute_result"
    }
   ],
   "source": [
    "df.groupby('path')['path'].count().sort_values(ascending=False)[:20]"
   ]
  }
 ],
 "metadata": {
  "kernelspec": {
   "display_name": "Python 3",
   "language": "python",
   "name": "python3"
  },
  "language_info": {
   "codemirror_mode": {
    "name": "ipython",
    "version": 3
   },
   "file_extension": ".py",
   "mimetype": "text/x-python",
   "name": "python",
   "nbconvert_exporter": "python",
   "pygments_lexer": "ipython3",
   "version": "3.6.5"
  }
 },
 "nbformat": 4,
 "nbformat_minor": 5
}
